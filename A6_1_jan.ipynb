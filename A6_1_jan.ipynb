{
  "nbformat": 4,
  "nbformat_minor": 0,
  "metadata": {
    "colab": {
      "name": "A6_1_jan.ipynb",
      "provenance": [],
      "collapsed_sections": [],
      "toc_visible": true,
      "include_colab_link": true
    },
    "kernelspec": {
      "name": "python3",
      "display_name": "Python 3"
    },
    "accelerator": "GPU"
  },
  "cells": [
    {
      "cell_type": "markdown",
      "metadata": {
        "id": "view-in-github",
        "colab_type": "text"
      },
      "source": [
        "<a href=\"https://colab.research.google.com/github/jansoe/BootstrapPrediction/blob/master/A6_1_jan.ipynb\" target=\"_parent\"><img src=\"https://colab.research.google.com/assets/colab-badge.svg\" alt=\"Open In Colab\"/></a>"
      ]
    },
    {
      "cell_type": "markdown",
      "metadata": {
        "id": "RX02S6Aq8OxF"
      },
      "source": [
        "# 6. Wortvektoren - Teil 2"
      ]
    },
    {
      "cell_type": "markdown",
      "metadata": {
        "id": "sao3gLY7kXug"
      },
      "source": [
        "## 6.1 Word2Vec selbst trainieren\n",
        "\n",
        "Nachdem wir uns im letzten Teil mit bereits trainierten Wortvektoren beschäftigt haben, zeigen wir Ihnen hier, wie Sie ein Word2Vec-Modell anhand eines Textdatensatzes trainieren können.\n",
        "\n",
        "Das Verfahren ist wie gehabt:\n",
        "- Erstellen Sie eine Kopie dieses Notebooks in ihrem Google Drive (vorgeschlagene Umbenennung: \"A6_1 - Vorname, Nachname\")\n",
        "- Editieren Sie die Text- und Codezellen.\n",
        "- Schicken Sie uns einen Freigabelink zum Kommentieren Ihres Notebooks an"
      ]
    },
    {
      "cell_type": "markdown",
      "metadata": {
        "id": "OzpoF4R3Ch2I"
      },
      "source": [
        "### Vorbereitungen\n",
        "\n",
        "Zunächst das Übliche: Verwendete Bibliotheken importieren und Warnungen ausschalten."
      ]
    },
    {
      "cell_type": "code",
      "metadata": {
        "id": "c6sSUrDuDXkX"
      },
      "source": [
        "import matplotlib.pyplot as plt\n",
        "import nltk\n",
        "import gensim\n",
        "from pprint import pprint\n",
        "import numpy as np\n",
        "import warnings\n",
        "warnings.filterwarnings('ignore')"
      ],
      "execution_count": null,
      "outputs": []
    },
    {
      "cell_type": "markdown",
      "metadata": {
        "id": "0Wh2V3ZvpPLb"
      },
      "source": [
        "Als Datensatz verwenden wir die Wikipedia-Artikel, die wir bereits in Abschnitt 5 heruntergeladen und vorbereitet haben. Entsprechend müssen wir unser Google Drive einbinden."
      ]
    },
    {
      "cell_type": "code",
      "metadata": {
        "id": "D7cSjXHNAwx5",
        "colab": {
          "base_uri": "https://localhost:8080/",
          "height": 128
        },
        "outputId": "b32f7c07-b252-4db3-d1ae-d334be2f45e9"
      },
      "source": [
        "from google.colab import drive\n",
        "drive.mount('/content/drive')"
      ],
      "execution_count": null,
      "outputs": [
        {
          "output_type": "stream",
          "text": [
            "Go to this URL in a browser: https://accounts.google.com/o/oauth2/auth?client_id=947318989803-6bn6qk8qdgf4n4g3pfee6491hc0brc4i.apps.googleusercontent.com&redirect_uri=urn%3aietf%3awg%3aoauth%3a2.0%3aoob&response_type=code&scope=email%20https%3a%2f%2fwww.googleapis.com%2fauth%2fdocs.test%20https%3a%2f%2fwww.googleapis.com%2fauth%2fdrive%20https%3a%2f%2fwww.googleapis.com%2fauth%2fdrive.photos.readonly%20https%3a%2f%2fwww.googleapis.com%2fauth%2fpeopleapi.readonly\n",
            "\n",
            "Enter your authorization code:\n",
            "··········\n",
            "Mounted at /content/drive\n"
          ],
          "name": "stdout"
        }
      ]
    },
    {
      "cell_type": "markdown",
      "metadata": {
        "id": "5mFwxZYOqDz_"
      },
      "source": [
        "Ersetzen Sie in der folgenden Code-Zelle die Pfadangabe mit dem enstprechenden Verzeichnis Ihres Google Drives."
      ]
    },
    {
      "cell_type": "code",
      "metadata": {
        "id": "WlWbMS4NQPSy",
        "colab": {
          "base_uri": "https://localhost:8080/",
          "height": 35
        },
        "outputId": "5b3a2825-68e7-4ebc-e9f7-57edb00fdf6c"
      },
      "source": [
        "path = '/content/drive/My Drive/KI-Schule/2 - Textdaten/wiki'\n",
        "!ls \"{path}\""
      ],
      "execution_count": null,
      "outputs": [
        {
          "output_type": "stream",
          "text": [
            "ls: cannot access '/content/drive/My Drive/KI-Schule/2 - Textdaten/wiki': No such file or directory\n"
          ],
          "name": "stdout"
        }
      ]
    },
    {
      "cell_type": "markdown",
      "metadata": {
        "id": "83EdFeNnkyyl"
      },
      "source": [
        "Jetzt sollten die Wikipedia-Artikel aus A5_1 geladen werden können.\n"
      ]
    },
    {
      "cell_type": "code",
      "metadata": {
        "id": "aBvNO6EJpr_v"
      },
      "source": [
        "import json\n",
        "corpus = json.load(open(path + '/article_dict.json'))"
      ],
      "execution_count": null,
      "outputs": []
    },
    {
      "cell_type": "markdown",
      "metadata": {
        "id": "KmvGoryhqhS-"
      },
      "source": [
        "Jetzt müssen wir die Rohdaten noch in eine für das Training des Modells geeignete Form bringen. Hierfür definieren wir uns wieder den bereits bekannten Tokenizer ..."
      ]
    },
    {
      "cell_type": "code",
      "metadata": {
        "id": "zafHSXbnA8hb"
      },
      "source": [
        "def tokenizer(text):\n",
        "    tokens = list(gensim.utils.simple_tokenize(text))\n",
        "    return tokens"
      ],
      "execution_count": null,
      "outputs": []
    },
    {
      "cell_type": "markdown",
      "metadata": {
        "id": "oJdh8AXxrly8"
      },
      "source": [
        "... und definieren uns eine Funktion zum Rausfiltern von Stopwords auf Basis einer zuvor heruntergelandenen Liste."
      ]
    },
    {
      "cell_type": "code",
      "metadata": {
        "id": "JQp8oQK5C2vh",
        "colab": {
          "base_uri": "https://localhost:8080/",
          "height": 54
        },
        "outputId": "2586ba49-a364-4b42-af0d-6e3e0dc36348"
      },
      "source": [
        "nltk.download('stopwords')\n",
        "stopwords = nltk.corpus.stopwords.words('german')\n",
        "def is_not_stopword(word):\n",
        "    return word not in stopwords"
      ],
      "execution_count": null,
      "outputs": [
        {
          "output_type": "stream",
          "text": [
            "[nltk_data] Downloading package stopwords to /root/nltk_data...\n",
            "[nltk_data]   Unzipping corpora/stopwords.zip.\n"
          ],
          "name": "stdout"
        }
      ]
    },
    {
      "cell_type": "markdown",
      "metadata": {
        "id": "_lZyDeEXqE-2"
      },
      "source": [
        "Im nächsten Schritt können wir unsere Funktionen `tokenizer()` und `is_not_stopword()` anwenden, um uns eine vorverarbeitete Dokumentensammlung zu erstellen. Dieser Schritt kann einige Zeit in Anspruch nehmen."
      ]
    },
    {
      "cell_type": "code",
      "metadata": {
        "id": "qSh2NOCJFCwR",
        "colab": {
          "base_uri": "https://localhost:8080/",
          "height": 35
        },
        "outputId": "6f6a00c1-dfb3-4c94-a293-0003339ba98b"
      },
      "source": [
        "n_articles =  15000 # 15000 Artikel ermöglichen recht hohe Qualität; noch mehr dauert entsprechend länger\n",
        "\n",
        "docs = []\n",
        "for n_article, text in enumerate(list(corpus.values())[:n_articles]):\n",
        "    tokens = tokenizer(text.lower())\n",
        "    tokens = list(filter(is_not_stopword, tokens))\n",
        "    if len(tokens) > 5:\n",
        "        docs.append(tokens)\n",
        "    if n_article % 100 == 0:\n",
        "        print('\\r', n_articles - n_article, 'articles still need processing', end='')\n",
        "print('fertig!')"
      ],
      "execution_count": null,
      "outputs": [
        {
          "output_type": "stream",
          "text": [
            "fertig!\n"
          ],
          "name": "stdout"
        }
      ]
    },
    {
      "cell_type": "markdown",
      "metadata": {
        "id": "CTX4YGpZlKIr"
      },
      "source": [
        "### Ein Word2Vec-Modell trainieren\n",
        "\n",
        "Anhand dieser Zusammenstellung von tokenisierten Dokumenten können wir nun ein Word2Vec-Modell trainieren. Auch dieser Schritt benötigt einige Minuten - leider ohne jegliche Form von Fortschrittsanzeige."
      ]
    },
    {
      "cell_type": "code",
      "metadata": {
        "id": "KFYREljOShWR"
      },
      "source": [
        "my_model = gensim.models.Word2Vec(\n",
        "    sentences = docs,\n",
        "    window=15,\n",
        "    size=150,\n",
        "    min_count=50\n",
        ")"
      ],
      "execution_count": null,
      "outputs": []
    },
    {
      "cell_type": "markdown",
      "metadata": {
        "id": "BHj8EqXP6CHD"
      },
      "source": [
        "Sie können anschließend das Modell in ihrem Google Drive abspeichern, damit Sie das Training nur einmal absolvieren müssen."
      ]
    },
    {
      "cell_type": "code",
      "metadata": {
        "id": "Go5Nu5JCwY6B"
      },
      "source": [
        "my_model.save(path + \"/my_word2vec.model\")"
      ],
      "execution_count": null,
      "outputs": []
    },
    {
      "cell_type": "markdown",
      "metadata": {
        "id": "HiDdhoC56q-w"
      },
      "source": [
        "Bei Bedarf können Sie das abgespeicherte Modell zu einem späteren Zeitpunkt wieder laden.\n",
        "\n",
        "---\n",
        "**Anmerkungen**\n",
        "\n",
        "Auch wenn wir im Rahmen dieses Notebooks hiervon nicht Gebrauch machen, könnte das Modell über die Methode train() immer wieder mit weiteren Texten trainiert werden - allerdings muss es sich dabei um Texte des gleichen Korpus handeln, da sich das Vokabular (und damit die Länge der Input-Vektoren) bei dieser Art von Modellen im Nachhinein nicht mehr erweitert werden kann:\n",
        "\n",
        "`my_model.train(new_corpus, total_examples=1, epochs=1)`"
      ]
    },
    {
      "cell_type": "code",
      "metadata": {
        "id": "amj-wLNW61_s"
      },
      "source": [
        "my_model = gensim.models.Word2Vec.load(path + \"/my_word2vec.model\")"
      ],
      "execution_count": null,
      "outputs": []
    },
    {
      "cell_type": "markdown",
      "metadata": {
        "id": "FmuFI7fv9XCF"
      },
      "source": [
        "Wir können das Modell kurz testen, indem wir uns z.B. die fünf Wörter ausgeben lassen, die dem Begriff \"Intelligenz\" am ähnlichsten sind (auf Basis der Kosinusähnlichkeit der zugehörigen Wordvektoren)."
      ]
    },
    {
      "cell_type": "code",
      "metadata": {
        "id": "5sZnVS7wBsGa",
        "colab": {
          "base_uri": "https://localhost:8080/",
          "height": 108
        },
        "outputId": "ee3ed080-f3bc-4de6-b4f3-daf5c33397c2"
      },
      "source": [
        "my_model.wv.most_similar(positive=['intelligenz'], topn=5)"
      ],
      "execution_count": null,
      "outputs": [
        {
          "output_type": "execute_result",
          "data": {
            "text/plain": [
              "[('robotern', 0.7771303057670593),\n",
              " ('neuronale', 0.7405957579612732),\n",
              " ('artificial', 0.7331240177154541),\n",
              " ('kognitive', 0.7283046841621399),\n",
              " ('künstliche', 0.7177648544311523)]"
            ]
          },
          "metadata": {
            "tags": []
          },
          "execution_count": 44
        }
      ]
    },
    {
      "cell_type": "markdown",
      "metadata": {
        "id": "kMONQATY-7Ch"
      },
      "source": [
        "### 6.1.0 Grenzen des Modells\n",
        "\n",
        "Können Sie ein Wort finden, dessen fünf ähnlichste Begriffe Sie nicht überzeugen?"
      ]
    },
    {
      "cell_type": "markdown",
      "metadata": {
        "id": "SG5svONAByPC"
      },
      "source": [
        "### Visualisierung ähnlicher Wortvektoren"
      ]
    },
    {
      "cell_type": "code",
      "metadata": {
        "id": "cZfiUlkj8cBW"
      },
      "source": [
        "top_similarity = my_model.wv.most_similar(positive=['intelligenz'], topn=1000)\n",
        "selected_words = [word for word, similartiy in top_similarity]\n",
        "vectors = [my_model.wv.word_vec(word, use_norm=True) for word in selected_words]"
      ],
      "execution_count": null,
      "outputs": []
    },
    {
      "cell_type": "code",
      "metadata": {
        "id": "qFI4xI2XGfc8",
        "colab": {
          "base_uri": "https://localhost:8080/",
          "height": 542
        },
        "outputId": "22e6c495-22f8-40ea-82a6-0f72ed137e8a"
      },
      "source": [
        "import plotly.express as px\n",
        "import pandas as pd\n",
        "from sklearn.manifold import TSNE\n",
        "\n",
        "tsne = TSNE(\n",
        "    n_components=2,\n",
        "    perplexity = 30\n",
        ")\n",
        "vectors_2D = tsne.fit_transform(vectors)\n",
        "\n",
        "to_plot = pd.DataFrame(vectors_2D, columns=['x', 'y'])\n",
        "to_plot['labels'] = selected_words\n",
        "\n",
        "px.scatter(to_plot, x='x', y='y', hover_name='labels')"
      ],
      "execution_count": null,
      "outputs": [
        {
          "output_type": "display_data",
          "data": {
            "text/html": [
              "<html>\n",
              "<head><meta charset=\"utf-8\" /></head>\n",
              "<body>\n",
              "    <div>\n",
              "            <script src=\"https://cdnjs.cloudflare.com/ajax/libs/mathjax/2.7.5/MathJax.js?config=TeX-AMS-MML_SVG\"></script><script type=\"text/javascript\">if (window.MathJax) {MathJax.Hub.Config({SVG: {font: \"STIX-Web\"}});}</script>\n",
              "                <script type=\"text/javascript\">window.PlotlyConfig = {MathJaxConfig: 'local'};</script>\n",
              "        <script src=\"https://cdn.plot.ly/plotly-latest.min.js\"></script>    \n",
              "            <div id=\"5d490c46-3d79-4330-9f4c-113504df5890\" class=\"plotly-graph-div\" style=\"height:525px; width:100%;\"></div>\n",
              "            <script type=\"text/javascript\">\n",
              "                \n",
              "                    window.PLOTLYENV=window.PLOTLYENV || {};\n",
              "                    \n",
              "                if (document.getElementById(\"5d490c46-3d79-4330-9f4c-113504df5890\")) {\n",
              "                    Plotly.newPlot(\n",
              "                        '5d490c46-3d79-4330-9f4c-113504df5890',\n",
              "                        [{\"hoverlabel\": {\"namelength\": 0}, \"hovertemplate\": \"<b>%{hovertext}</b><br><br>x=%{x}<br>y=%{y}\", \"hovertext\": [\"robotern\", \"neuronale\", \"artificial\", \"kognitive\", \"k\\u00fcnstliche\", \"kognitiven\", \"robotik\", \"interaktion\", \"neuronalen\", \"roboter\", \"f\\u00e4higkeiten\", \"kreativit\\u00e4t\", \"intelligent\", \"intelligente\", \"mentale\", \"spieltheorie\", \"analysieren\", \"k\\u00fcnstliches\", \"empathie\", \"psychologische\", \"komplexit\\u00e4t\", \"anthropologische\", \"psychologischen\", \"subjektiver\", \"androiden\", \"f\\u00e4higkeit\", \"lernen\", \"kybernetik\", \"simulation\", \"brain\", \"interaktionen\", \"technologischen\", \"methodische\", \"forschungsgebiet\", \"motivation\", \"sozialpsychologie\", \"kreativen\", \"menschlicher\", \"physischer\", \"k\\u00fcnstlicher\", \"lernens\", \"emergenz\", \"computational\", \"unbewussten\", \"erfahrung\", \"rezipienten\", \"biologischer\", \"rational\", \"menschliche\", \"psychologischer\", \"nanotechnologie\", \"evolution\\u00e4re\", \"psychologie\", \"unbewusste\", \"k\\u00fcnstlichen\", \"implikationen\", \"wahrnehmungen\", \"mentalen\", \"verhaltensweisen\", \"informationsverarbeitung\", \"theoretischer\", \"wohlbefinden\", \"berechenbarkeit\", \"imagination\", \"grundlegendes\", \"behavior\", \"menschlichen\", \"pinker\", \"knowledge\", \"fragestellungen\", \"soziologischen\", \"menschliches\", \"psychologen\", \"simulationen\", \"kommunikations\", \"lernenden\", \"vorurteil\", \"kommunizieren\", \"virtuelle\", \"simuliert\", \"physische\", \"ki\", \"verhaltens\", \"methodik\", \"individueller\", \"sozialisation\", \"neurobiologie\", \"learning\", \"wissenschaftliches\", \"ph\\u00e4nomenen\", \"sozialforschung\", \"lebensformen\", \"how\", \"manipulation\", \"komplexit\\u00e4tstheorie\", \"fiktionale\", \"physischen\", \"aspekten\", \"nlp\", \"realit\\u00e4t\", \"technologien\", \"bewusste\", \"milgram\", \"subjektiven\", \"bewusstseins\", \"interagieren\", \"genetik\", \"systemtheorie\", \"n\\u00fctzlich\", \"sachverhalten\", \"informatik\", \"forschen\", \"modellierung\", \"modellieren\", \"turing\", \"bed\\u00fcrfnisse\", \"psychische\", \"intuitiv\", \"angeborenen\", \"kommunikation\", \"zusammenh\\u00e4nge\", \"fuzzy\", \"wissens\", \"virtuellen\", \"empirisch\", \"analysiert\", \"computerspielen\", \"weizenbaum\", \"psychischen\", \"kommunikativen\", \"empirische\", \"grundlagenforschung\", \"molekularbiologie\", \"didaktik\", \"mind\", \"gehirn\", \"strategien\", \"fertigkeiten\", \"ansatzes\", \"intuition\", \"wissen\", \"gesetzm\\u00e4\\u00dfigkeiten\", \"immunologie\", \"ad\\u00e4quat\", \"sozio\", \"paradigma\", \"herauszufinden\", \"aufzeigen\", \"psychischer\", \"fundierte\", \"ph\\u00e4nomens\", \"optimierung\", \"einsichten\", \"teildisziplinen\", \"visuellen\", \"herangehensweise\", \"chomsky\", \"individuum\", \"cochrane\", \"know\", \"mikro\\u00f6konomie\", \"komplexer\", \"wissenschaftstheorie\", \"anthropologie\", \"empirischer\", \"individuums\", \"korrektheit\", \"ph\\u00e4nomene\", \"ethischer\", \"altruismus\", \"semantischen\", \"metaphern\", \"eigen\", \"psychoanalytische\", \"bewusstsein\", \"hilfsmitteln\", \"konzepten\", \"testen\", \"lebewesens\", \"informationstheorie\", \"allt\\u00e4gliche\", \"angewandten\", \"subjektive\", \"handelns\", \"effizienten\", \"realistische\", \"umzugehen\", \"sensibilit\\u00e4t\", \"interdisziplin\\u00e4re\", \"algorithmen\", \"bewussten\", \"evolution\\u00e4ren\", \"unentbehrlich\", \"akteuren\", \"human\", \"befriedigung\", \"reality\", \"quest\", \"erforschen\", \"biologie\", \"asimov\", \"aufzuzeigen\", \"\\u00fcbernat\\u00fcrlichen\", \"evolutionstheorie\", \"genies\", \"spezialist\", \"bioinformatik\", \"fragestellung\", \"humane\", \"echtzeit\", \"visuelle\", \"formalisierung\", \"individuelle\", \"erkenntnistheorie\", \"permakultur\", \"naturwissenschaft\", \"mental\", \"theoretisches\", \"angeborene\", \"klassifizieren\", \"funktionalen\", \"virtual\", \"konzepte\", \"netzwerken\", \"parsons\", \"fortschritt\", \"bed\\u00fcrfnis\", \"bewerten\", \"cyberpunk\", \"computerprogramme\", \"paradoxien\", \"tr\\u00e4umen\", \"perfekte\", \"methodisch\", \"argumentiert\", \"rationalit\\u00e4t\", \"selbstorganisation\", \"biologischen\", \"theory\", \"empirischen\", \"maxime\", \"noam\", \"objektivit\\u00e4t\", \"welten\", \"sprachphilosophie\", \"kindlichen\", \"ontologie\", \"kosmologie\", \"popul\\u00e4rwissenschaftliche\", \"analyse\", \"beherrschung\", \"mensch\", \"aufbaut\", \"erleben\", \"konzepts\", \"hervorbringen\", \"erfahrungen\", \"illusion\", \"kenntnissen\", \"soziologische\", \"kommunikative\", \"anregen\", \"entwicklungsprozess\", \"erfassen\", \"klienten\", \"qualitative\", \"geistige\", \"sachverhalte\", \"prinzipielle\", \"virtueller\", \"computer\", \"evolution\", \"begreifen\", \"funktionsweise\", \"diskurse\", \"meaning\", \"ansatz\", \"teilgebiet\", \"methoden\", \"pr\\u00e4zisen\", \"emotionale\", \"empirie\", \"geistigen\", \"selektion\", \"vorurteile\", \"automatisierung\", \"robot\", \"kreative\", \"mathematischer\", \"paradox\", \"ans\\u00e4tzen\", \"trainings\", \"lab\", \"grundidee\", \"visualisierung\", \"au\\u00dferirdischen\", \"pragmatisch\", \"metaphysischen\", \"didaktische\", \"konditionierung\", \"fachleute\", \"naturwissenschaftlicher\", \"aneignung\", \"verkn\\u00fcpfen\", \"sozialwissenschaftlichen\", \"forschungsergebnisse\", \"interkulturelle\", \"stress\", \"determinismus\", \"bew\\u00e4ltigung\", \"programmierung\", \"gehirns\", \"deskriptiven\", \"ego\", \"makro\\u00f6konomie\", \"rollenspiel\", \"fiktiver\", \"netzwerks\", \"objektorientierten\", \"emotionen\", \"ethischen\", \"expression\", \"aufgezeigt\", \"p\\u00e4dagogik\", \"pragmatismus\", \"wirtschaften\", \"psychoanalyse\", \"medizinisches\", \"leary\", \"arbeitswelt\", \"bed\\u00fcrfnissen\", \"universellen\", \"egoismus\", \"volkswirtschaftslehre\", \"everything\", \"poppers\", \"mechanismen\", \"experimentelle\", \"avatar\", \"untersuchen\", \"meilensteine\", \"individualit\\u00e4t\", \"internets\", \"subjekte\", \"kausalen\", \"perspektive\", \"entfaltung\", \"therapeuten\", \"kryptographie\", \"verstehen\", \"entwerfen\", \"gef\\u00fchlen\", \"netzwerke\", \"analytischen\", \"beizutragen\", \"abzubilden\", \"reviews\", \"wissenschaftlicher\", \"pragmatik\", \"selbsterkenntnis\", \"menschenbild\", \"interkulturellen\", \"entwirft\", \"semantic\", \"charaktere\", \"anthropologischen\", \"verst\\u00e4ndnis\", \"informations\", \"zusammenlebens\", \"gesteigerte\", \"unbewusst\", \"simulieren\", \"asperger\", \"ethische\", \"unendlichkeit\", \"komplexe\", \"kausal\", \"verbale\", \"psyche\", \"zivilisationen\", \"naturwissenschaftlich\", \"methodischen\", \"relevanter\", \"denken\", \"therapien\", \"wahrheiten\", \"paradigmen\", \"komplexes\", \"bringe\", \"biologen\", \"irrational\", \"erkenntnis\", \"zusammenwirken\", \"alltags\", \"erkenntnistheoretischen\", \"visuell\", \"ontologische\", \"understanding\", \"interdisziplin\\u00e4r\", \"aspekt\", \"innovation\", \"wissenschaftler\", \"erforscht\", \"klonen\", \"evaluation\", \"ideas\", \"sexualit\\u00e4t\", \"therapeutische\", \"subjektiv\", \"sinnvollen\", \"alternativen\", \"optimieren\", \"trainieren\", \"nachdenken\", \"hacker\", \"sachbuch\", \"qualitativen\", \"philosophieren\", \"computerpionier\", \"computertechnik\", \"k\\u00f6rperlichen\", \"gentechnik\", \"quantencomputer\", \"hair\", \"\\u00e4ngste\", \"auseinandersetzt\", \"reiz\", \"f\\u00e4hig\", \"wahrnehmung\", \"m\\u00f6glichkeiten\", \"verstandes\", \"objektive\", \"feedback\", \"perfektion\", \"humes\", \"witze\", \"neurologie\", \"anwendet\", \"sinnliche\", \"maps\", \"logisches\", \"hilfsmittel\", \"bildverarbeitung\", \"lebewesen\", \"psychology\", \"sinnlichen\", \"kausalit\\u00e4t\", \"fortgeschrittene\", \"engineering\", \"utopische\", \"matching\", \"wikis\", \"bestenfalls\", \"approach\", \"fundamentalen\", \"manipulieren\", \"kategorisierung\", \"situationen\", \"praktischer\", \"universalit\\u00e4t\", \"umgang\", \"technologie\", \"weltraums\", \"viren\", \"heuristik\", \"anschauung\", \"hypertext\", \"denkweise\", \"kommunikationsmittel\", \"praktischen\", \"fachgebieten\", \"gef\\u00fchle\", \"fachwissen\", \"stochastik\", \"naturwissenschaftliche\", \"blade\", \"effektivit\\u00e4t\", \"gesellschaftsform\", \"effizient\", \"think\", \"biologische\", \"searle\", \"ontologischen\", \"herausforderung\", \"elementare\", \"sozialem\", \"teilbereich\", \"integrieren\", \"rollenspiele\", \"besch\\u00e4ftigen\", \"transzendentalen\", \"emotionalen\", \"tarnung\", \"evolution\\u00e4r\", \"into\", \"herausforderungen\", \"offenheit\", \"fortschritts\", \"urspr\\u00fcngen\", \"theorien\", \"automat\", \"mitmenschen\", \"concepts\", \"konstrukte\", \"automatisierungstechnik\", \"vorgestellten\", \"allgemeinan\\u00e4sthesie\", \"chaos\", \"technologische\", \"daseins\", \"formalismus\", \"sch\\u00f6pferische\", \"errungenschaften\", \"denkens\", \"softwareentwicklung\", \"quantum\", \"alien\", \"ph\\u00e4nomen\", \"putnam\", \"innovationen\", \"therapeutischen\", \"spezifische\", \"imitation\", \"naiven\", \"seelische\", \"technischem\", \"qualit\\u00e4tssicherung\", \"fortentwicklung\", \"grundprinzip\", \"wertet\", \"fundamentale\", \"inhalten\", \"aufzukl\\u00e4ren\", \"self\", \"ingenieuren\", \"logische\", \"skinner\", \"interaktive\", \"objektorientierte\", \"ergotherapie\", \"innovativen\", \"aspekte\", \"experimentellen\", \"lust\", \"dynamische\", \"\\u017ei\\u017eek\", \"gegenstandes\", \"biologisch\", \"psychological\", \"analogie\", \"\\u00f6konomischer\", \"logisch\", \"gender\", \"computerprogramm\", \"experimenteller\", \"allt\\u00e4glichen\", \"empfindungen\", \"wirtschaftswissenschaften\", \"adaptive\", \"lasse\", \"theoretische\", \"erkenntnissen\", \"abstrakt\", \"physiologischen\", \"what\", \"zusammenspiel\", \"screening\", \"rollenspielen\", \"stanford\", \"zugrundeliegenden\", \"output\", \"infinite\", \"systeme\", \"schlussfolgerungen\", \"computergrafik\", \"wahrscheinlichkeitstheorie\", \"phantasie\", \"funktionale\", \"soziologen\", \"vermeidet\", \"benchmarking\", \"agnostizismus\", \"geisteswissenschaften\", \"au\\u00dferirdische\", \"mitgef\\u00fchl\", \"anwendungsbereiche\", \"grundlegenden\", \"interaktiven\", \"\\u00e4sthetische\", \"abstrahiert\", \"erkl\\u00e4rbar\", \"aggressivit\\u00e4t\", \"neuartige\", \"schlussfolgerung\", \"wirklichen\", \"animal\", \"aggressiven\", \"klinische\", \"thematik\", \"verst\\u00e4ndlich\", \"bef\\u00e4higt\", \"thought\", \"grundlagen\", \"normative\", \"friend\", \"interessieren\", \"genie\", \"mimik\", \"kooperative\", \"individuellen\", \"computerspiel\", \"identifikation\", \"gesunde\", \"lem\", \"reproduktion\", \"techniken\", \"performance\", \"ans\\u00e4tze\", \"problematik\", \"sozialer\", \"humanen\", \"produktive\", \"flexibilit\\u00e4t\", \"realen\", \"motorische\", \"wertvorstellungen\", \"abstrakte\", \"effiziente\", \"behandlungsmethoden\", \"semantik\", \"computerspiele\", \"potenzial\", \"dynamischer\", \"vorurteilen\", \"pr\\u00e4vention\", \"geistiger\", \"alternativer\", \"autismus\", \"theoretischen\", \"konstruieren\", \"technischer\", \"input\", \"immunsystem\", \"sprachlicher\", \"t\\u00e4uschung\", \"tichy\", \"evolutionary\", \"interpretieren\", \"allmacht\", \"\\u00e4sthetischen\", \"sinnlich\", \"spielwelt\", \"physikalischer\", \"betriebswirtschaftslehre\", \"systemische\", \"relevanz\", \"materieller\", \"untersucht\", \"altern\", \"potentiell\", \"qualit\\u00e4ten\", \"religionswissenschaft\", \"blickwinkel\", \"moralische\", \"verst\\u00e4ndliche\", \"blo\\u00dfes\", \"interest\", \"vorstellt\", \"modells\", \"skript\", \"konzept\", \"weltsicht\", \"atomaren\", \"identit\\u00e4ten\", \"turingmaschine\", \"vermitteln\", \"hierarchischen\", \"fachgebiet\", \"unsichtbare\", \"schaltkreis\", \"diene\", \"zufall\", \"seelischen\", \"programmieren\", \"assoziation\", \"hume\", \"brenda\", \"universell\", \"komplexere\", \"\\u00f6kologie\", \"mnemotechnik\", \"basierenden\", \"erkenntnisse\", \"smiths\", \"tierreich\", \"naturwissenschaften\", \"n\\u00fctzliche\", \"esoterische\", \"fokus\", \"zellul\\u00e4ren\", \"phantastischen\", \"patterns\", \"erkennung\", \"detection\", \"erforschung\", \"savant\", \"kit\", \"metaphysische\", \"naturgesetze\", \"flexibel\", \"ingenieurwissenschaften\", \"pr\\u00e4ferenzen\", \"web\", \"praktische\", \"horror\", \"biochemie\", \"relationalen\", \"vision\", \"anpassen\", \"innovative\", \"f\\u00fchre\", \"versteht\", \"luhmann\", \"menschheit\", \"shooter\", \"logic\", \"perfekten\", \"massenmedien\", \"astrophysik\", \"universum\", \"future\", \"leistungsf\\u00e4higkeit\", \"roddenberry\", \"trance\", \"wahrnehmbare\", \"computers\", \"why\", \"widerlegen\", \"popularisierung\", \"freuds\", \"gesellschaftliches\", \"naturwissenschaftlichen\", \"verhalten\", \"vernetzung\", \"logischer\", \"anamnese\", \"eliminieren\", \"umgebungen\", \"rationalen\", \"vererbung\", \"genen\", \"\\u00fcbernat\\u00fcrliche\", \"based\", \"kosmos\", \"pers\\u00f6nlichkeit\", \"privatsph\\u00e4re\", \"paradoxon\", \"strukturelle\", \"entschl\\u00fcsselung\", \"abstraktion\", \"gewissheit\", \"psycho\", \"\\u00fcbungen\", \"effizienter\", \"physiologie\", \"logik\", \"auseinandersetzen\", \"semiotik\", \"haltungen\", \"clifford\", \"kis\", \"dinge\", \"eliza\", \"erlebnissen\", \"dynamik\", \"applikationen\", \"transzendenten\", \"effektiver\", \"lebenswelt\", \"aggression\", \"trivial\", \"linguistischen\", \"relationale\", \"beeinflussung\", \"psychosen\", \"empfinden\", \"erbinformation\", \"schemata\", \"rassismus\", \"experimental\", \"sinneswahrnehmung\", \"faches\", \"konzeptionen\", \"hingabe\", \"kommunikationstechnik\", \"k\\u00f6rperliche\", \"pathogene\", \"objektiven\", \"features\", \"handelnden\", \"paradigmenwechsel\", \"fitness\", \"spezifisch\", \"rationalisierung\", \"wichtigkeit\", \"zug\\u00e4nglichkeit\", \"gef\\u00fchl\", \"nash\", \"assoziationen\", \"geforscht\", \"reputation\", \"orgasmus\", \"hiermit\", \"begriffliche\", \"abl\\u00e4ufe\", \"berners\", \"quality\", \"fundamental\", \"videospiele\", \"quantitativen\", \"postmoderne\", \"g\\u00fcte\", \"ged\\u00e4chtnis\", \"krankheitserregern\", \"peirce\", \"\\u00fcbertragbar\", \"konkreter\", \"philosophy\", \"semantische\", \"effizienz\", \"nature\", \"vernetzt\", \"szenario\", \"verschiedenste\", \"applikation\", \"sch\\u00f6pferischen\", \"nat\\u00fcrlicher\", \"tradierten\", \"systemen\", \"hermeneutik\", \"realer\", \"konstruktivismus\", \"umzusetzen\", \"perspektiven\", \"existiere\", \"diskutieren\", \"computern\", \"steigert\", \"wide\", \"pers\\u00f6nlicher\", \"erschaffen\", \"weltanschauungen\", \"\\u00e4sthetisch\", \"einsetzt\", \"\\u00f6konomie\", \"logischen\", \"monitoring\", \"manipuliert\", \"logiker\", \"weltanschauung\", \"erfinden\", \"analytische\", \"gleichsam\", \"neusprech\", \"hubbard\", \"nachhaltigen\", \"dialektik\", \"arbeitsteilung\", \"immunsystems\", \"\\u00f6kosysteme\", \"berechenbar\", \"wahrgenommenen\", \"vergleichende\", \"quantenfeldtheorie\", \"morris\", \"beitragen\", \"p\\u00e4dagogen\", \"cornell\", \"analysis\", \"wohlergehen\", \"digitalisierung\", \"handelnde\", \"fiktionen\", \"rules\", \"verk\\u00f6rpern\", \"wesentliches\", \"zuf\\u00e4llige\", \"biophysiker\", \"qed\", \"sozialwissenschaften\", \"formulieren\", \"phantasien\", \"sozialwissenschaft\", \"wissenschaftlern\", \"konzeptes\", \"gelernt\", \"kosmische\", \"datenbanken\", \"biosph\\u00e4re\", \"feyerabend\", \"suchmaschinen\", \"ethisch\", \"transgender\", \"menschlichem\", \"mathematisches\", \"m\\u00f6chten\", \"werkzeuge\", \"diversity\", \"evidenz\", \"theismus\", \"qualit\\u00e4tsmanagement\", \"balance\", \"moralischen\", \"response\", \"psychoanalytischen\", \"bewusst\", \"willensfreiheit\", \"strategie\", \"vern\\u00fcnftig\", \"potenziell\", \"beschreiben\", \"hypothetische\", \"betrachtung\", \"simultan\", \"einhergehen\", \"effects\", \"management\", \"fetischismus\", \"vern\\u00fcnftige\", \"fachrichtungen\", \"moralischer\", \"gesichtspunkt\", \"auseinanderzusetzen\", \"werkzeugen\", \"auswerten\", \"informatiker\", \"spezialisierung\", \"strukturalismus\", \"ver\\u00e4ndern\", \"dynamics\", \"relativit\\u00e4t\", \"auffinden\", \"lewin\", \"umfangreicher\", \"erlernen\", \"erfindungen\", \"genome\", \"komplexen\", \"linguistische\", \"begreift\", \"einflie\\u00dfen\", \"genetiker\", \"negativer\", \"abbilden\", \"diagnostische\", \"videospiel\", \"living\", \"vern\\u00fcnftigen\", \"rationalismus\", \"effekte\", \"transzendenz\", \"neuartigen\", \"erstellung\", \"objekten\", \"life\", \"beobachtbaren\", \"zielgruppe\", \"makro\", \"materiellen\", \"factor\", \"g\\u00f6del\", \"problems\", \"linguistik\", \"suche\", \"social\", \"methods\", \"potenziellen\", \"notwendigerweise\", \"gene\", \"empfindung\", \"\\u00e4u\\u00dfert\", \"kalk\\u00fcl\", \"neuronen\", \"alltag\", \"brillen\", \"arbeitsweise\", \"aktualit\\u00e4t\", \"analytisch\", \"entwickeln\", \"spielarten\", \"einstellungen\", \"schulung\", \"probleme\", \"utopischen\", \"edv\", \"effect\", \"sinnvolle\", \"fazit\", \"dingen\", \"aliens\"], \"legendgroup\": \"\", \"marker\": {\"color\": \"#636efa\", \"symbol\": \"circle\"}, \"mode\": \"markers\", \"name\": \"\", \"showlegend\": false, \"type\": \"scatter\", \"x\": [-4.043858528137207, -3.7056829929351807, 9.167374610900879, -5.21660041809082, 11.443842887878418, -5.2094855308532715, -4.583580493927002, -6.149751663208008, -3.795818567276001, -3.717946767807007, -13.779699325561523, -10.464899063110352, 4.884109973907471, -3.677208185195923, 0.8360373973846436, 14.552610397338867, -3.3718836307525635, 10.652068138122559, -11.657788276672363, 24.322851181030273, 1.3973065614700317, 28.948772430419922, 24.314987182617188, -0.032925788313150406, 20.534914016723633, -15.725395202636719, -15.410982131958008, 21.493980407714844, -0.43617886304855347, 9.061846733093262, -6.018061637878418, -18.123743057250977, 22.08403968811035, -18.717105865478516, -6.3150200843811035, 26.446943283081055, -10.395273208618164, -35.079376220703125, -4.384678363800049, 10.068314552307129, 28.81817054748535, 6.397278785705566, 13.571792602539062, -1.4702682495117188, 8.073212623596191, -4.8575334548950195, -31.22294044494629, 2.0437819957733154, -34.65457534790039, 23.2056827545166, -18.089284896850586, -36.465152740478516, 32.032649993896484, -7.010501861572266, 11.471048355102539, 12.357842445373535, 0.49396952986717224, -0.2180720865726471, -19.570663452148438, -2.6936802864074707, 18.067218780517578, -22.12601661682129, 16.708850860595703, -1.230751395225525, 19.060768127441406, 17.160261154174805, -34.56245422363281, 26.928064346313477, 15.103621482849121, 23.434354782104492, 25.04734992980957, 1.3713350296020508, 25.205007553100586, -0.896847128868103, -9.40492057800293, -7.564805030822754, -15.554054260253906, -6.975172519683838, -0.8637509346008301, -2.2194948196411133, -5.411594390869141, 5.716152191162109, -19.355356216430664, 22.843637466430664, -5.423739910125732, -7.893352031707764, -25.598655700683594, -7.829823970794678, 33.735530853271484, 5.138143539428711, 26.970199584960938, -36.45768356323242, 11.26572036743164, -13.31850528717041, 16.39516830444336, -4.433088302612305, -5.339050769805908, 24.76025390625, 20.026966094970703, 2.7637221813201904, -13.849702835083008, -7.881066799163818, 25.228792190551758, -1.6474636793136597, 1.832443118095398, -6.339501857757568, -27.990093231201172, 22.878202438354492, -0.11604779213666916, 8.506245613098145, 32.025291442871094, 23.554054260253906, -0.3402668833732605, -1.2593939304351807, 15.437533378601074, -10.984275817871094, -21.683584213256836, 7.445845603942871, -27.332040786743164, -8.345293045043945, 6.125241279602051, 7.972477436065674, 31.243284225463867, -1.272200107574463, 3.7375566959381104, 18.791236877441406, -1.0426685810089111, 26.83719825744629, -20.844324111938477, -4.216831207275391, 21.686992645263672, -18.634197235107422, -27.43631935119629, 30.599397659301758, 13.215091705322266, -28.29123878479004, 11.354501724243164, -13.836270332336426, 14.466756820678711, 6.5530524253845215, 8.961991310119629, 7.259497165679932, -26.861690521240234, 1.6485974788665771, -9.980018615722656, 18.110816955566406, -15.423970222473145, 13.55652141571045, -20.920318603515625, 31.884502410888672, 5.2789459228515625, 2.832165241241455, 7.92464542388916, 26.927940368652344, -6.843376159667969, 19.090919494628906, 28.31890296936035, -7.223764419555664, 20.85995101928711, 11.095521926879883, 27.11033058166504, 0.10785581171512604, 20.0328369140625, 29.475126266479492, 21.217954635620117, -7.598702430725098, -0.7846211791038513, 5.195586204528809, -3.7359304428100586, -1.6499921083450317, 15.31864070892334, -6.139204502105713, -0.1515299528837204, 36.51298141479492, 1.3415652513504028, -9.758601188659668, 18.303775787353516, 0.21584828197956085, -33.09173583984375, 16.23985481262207, -13.852198600769043, 26.189666748046875, -1.597358226776123, -3.801405668258667, 5.560068607330322, 0.7745915055274963, -12.993900299072266, -19.43352699279785, 29.35878562927246, 2.460648536682129, -7.4945759773254395, -36.367950439453125, -13.496110916137695, -9.222955703735352, 17.539045333862305, -17.400684356689453, 1.7081339359283447, 10.975740432739258, -21.70992088317871, -28.474416732788086, 27.90152359008789, -13.741472244262695, 0.2067173421382904, -37.3699951171875, -1.4929903745651245, -27.096832275390625, -26.443805694580078, 2.901170015335083, -25.757339477539062, -1.288674235343933, -6.811063289642334, 13.32468318939209, -9.64145565032959, 13.228145599365234, -31.887596130371094, 31.590713500976562, 17.824195861816406, 17.445537567138672, -27.33851432800293, 12.309447288513184, 10.726033210754395, 2.2703800201416016, 17.305255889892578, -5.783869743347168, 25.11001968383789, -19.105405807495117, -8.23132038116455, -2.76633882522583, 0.5228661894798279, 0.319318562746048, 7.229985237121582, -0.061254821717739105, -1.9786174297332764, 22.041929244995117, -17.244762420654297, -2.99586820602417, 22.941049575805664, -30.753297805786133, 16.308025360107422, 21.118362426757812, 12.9711275100708, 28.3760986328125, 14.244404792785645, 2.5577518939971924, 19.016645431518555, -21.902376174926758, 18.392398834228516, 17.750261306762695, 30.248239517211914, 19.700618743896484, -13.92747974395752, 5.469478607177734, -3.9297759532928467, -11.350244522094727, 15.213465690612793, -30.97718048095703, -18.709980010986328, 0.6921481490135193, 21.733692169189453, 25.271039962768555, -3.7896125316619873, -1.6289575099945068, 1.8160027265548706, 1.5973663330078125, -10.458338737487793, 12.189848899841309, -8.526459693908691, 8.698531150817871, 4.195047378540039, -1.145448923110962, 2.1582210063934326, -36.063743591308594, 4.422832489013672, -0.6078836917877197, 24.784685134887695, 18.170793533325195, 16.27404022216797, 28.380582809448242, 14.239909172058105, 7.329921245574951, -11.661968231201172, 14.8016939163208, -8.825605392456055, -34.213287353515625, -15.559792518615723, -13.309805870056152, 7.088063716888428, 7.689188003540039, 19.396032333374023, 6.01612663269043, 18.224456787109375, 29.426637649536133, 10.620604515075684, 1.1723240613937378, -0.39744076132774353, 3.7959070205688477, 2.460885763168335, 8.125205993652344, 21.547452926635742, -17.567716598510742, 23.10112762451172, 32.21844482421875, -5.429437637329102, -1.5688602924346924, 27.472457885742188, -24.85589027404785, 29.198657989501953, -23.720529556274414, 5.599862575531006, -10.847310066223145, 3.8393256664276123, -27.998249053955078, 19.97113609313965, -0.49605974555015564, 27.060012817382812, -0.8235204219818115, -4.28154182434082, -6.347321033477783, 4.240660190582275, -9.734346389770508, -4.616758346557617, -2.9584572315216064, 14.83861255645752, 31.989412307739258, 18.991073608398438, -14.442364692687988, 36.739837646484375, -23.20294952392578, 22.707170486450195, -15.710651397705078, -10.969733238220215, 6.569766044616699, -1.8104052543640137, 28.496004104614258, 11.027719497680664, 19.633867263793945, -4.783496856689453, -16.495935440063477, 22.468782424926758, -20.598772048950195, 0.18946385383605957, -7.816317081451416, -3.9793784618377686, 8.112051963806152, 5.587207317352295, 2.755408763885498, -8.830470085144043, -20.372495651245117, 6.830679893493652, 3.6171343326568604, -11.390626907348633, -9.270753860473633, -5.973064422607422, 19.993091583251953, -11.046628952026367, 9.445823669433594, 15.998035430908203, 33.854366302490234, 16.735755920410156, 11.424561500549316, -3.378173828125, 29.270986557006836, 7.1166672706604, 5.589984893798828, -6.673192024230957, 28.588851928710938, 0.4342076778411865, -9.779146194458008, -8.726046562194824, -20.684772491455078, -9.514447212219238, -2.1173946857452393, -26.427412033081055, -4.559983253479004, 8.370436668395996, -0.423412948846817, 4.008030891418457, -5.651972770690918, -1.9409540891647339, -36.90902328491211, 32.029327392578125, 20.175344467163086, 1.0334874391555786, 8.76657485961914, -23.197017669677734, 7.3556928634643555, 17.975833892822266, -5.053519248962402, -15.262502670288086, -27.468666076660156, 2.8969571590423584, 7.451606273651123, -4.825610160827637, -14.223855972290039, 13.834488868713379, -6.7740092277526855, 7.431817054748535, 16.30779457092285, 29.528396606445312, -12.898018836975098, -15.722930908203125, -26.49213409423828, -23.818166732788086, -32.40699768066406, -11.64241886138916, 17.32461929321289, -25.88461685180664, -23.58533477783203, -0.9017524123191833, -2.7449467182159424, 10.007650375366211, 2.4888648986816406, -12.215997695922852, 3.3833847045898438, -1.7145124673843384, 1.3827104568481445, 11.656905174255371, 13.052800178527832, 14.716148376464844, 1.4214363098144531, -21.77348518371582, -32.01190185546875, 1.748714804649353, 9.542168617248535, -14.67801284790039, -10.516530990600586, -16.59552574157715, -15.976762771606445, -3.33567476272583, 7.600925922393799, 5.121006488800049, 2.25923228263855, -1.823400616645813, -0.9693101048469543, 16.993114471435547, -9.892656326293945, -25.109811782836914, -1.514211893081665, 4.520902156829834, 4.895817756652832, 11.022053718566895, -9.961038589477539, -2.806427478790283, -33.735591888427734, 16.909622192382812, 3.504458427429199, 4.568665981292725, -6.183833122253418, 10.118714332580566, -0.4069766104221344, 15.341117858886719, -3.0347743034362793, -2.1152586936950684, 12.634665489196777, 9.895078659057617, -13.699170112609863, 13.97615909576416, -9.819950103759766, 24.287933349609375, -3.352491617202759, -13.455470085144043, -14.682807922363281, 18.464414596557617, -30.337345123291016, 17.672849655151367, 6.329139232635498, 4.6661696434021, 9.81470012664795, -8.877328872680664, 23.229434967041016, 29.359907150268555, -9.697254180908203, 31.447580337524414, 18.840261459350586, 31.51327133178711, 21.275217056274414, 7.023724555969238, -8.875152587890625, 4.784506797790527, 11.878776550292969, -30.558176040649414, 20.281085968017578, 10.022464752197266, -9.277705192565918, 20.31288719177246, -10.81040096282959, 27.88412857055664, -9.42296028137207, -1.1868021488189697, -15.664880752563477, 11.61178970336914, -10.993337631225586, -27.854331970214844, -35.65970993041992, 13.407938957214355, -9.526497840881348, -10.287760734558105, -19.406505584716797, 28.171823501586914, 16.4724063873291, 12.66518497467041, -10.547944068908691, 15.629828453063965, 14.007479667663574, -9.888408660888672, 2.637157917022705, -23.3559627532959, 5.761485576629639, -17.081262588500977, 2.8938536643981934, 11.62321949005127, -4.3835368156433105, -18.62141990661621, 9.988321304321289, 2.0836238861083984, 14.85883617401123, 21.6528377532959, 4.060750961303711, 18.799598693847656, -17.12864875793457, -22.608015060424805, -28.188234329223633, -7.378406524658203, -6.1640625, -21.999156951904297, -10.833308219909668, -11.7244291305542, -19.41205406188965, 9.357895851135254, 2.86466908454895, 10.02828598022461, -8.796478271484375, -19.974611282348633, 13.478344917297363, -13.098898887634277, 11.593734741210938, 20.71843147277832, 0.0007826036307960749, 4.047154903411865, -19.71221160888672, 7.659770488739014, 25.278186798095703, -16.47269630432129, -9.75692081451416, 3.2309885025024414, 18.26603889465332, 1.5699567794799805, -31.046825408935547, 18.022375106811523, 10.48029613494873, -13.907360076904297, 10.832513809204102, -27.824987411499023, 5.474477291107178, -15.21789264678955, -14.031050682067871, -0.8370924592018127, 30.223066329956055, -2.2093822956085205, 8.93847370147705, 21.262544631958008, -23.934600830078125, 9.282306671142578, -28.232177734375, 11.720087051391602, -3.82077956199646, -24.31120491027832, -1.9363325834274292, 13.515054702758789, 7.7297773361206055, 8.651711463928223, 9.648048400878906, 5.1754045486450195, 2.9652907848358154, 0.45717954635620117, 19.023256301879883, -2.3896002769470215, 10.848736763000488, 21.165050506591797, 5.470664024353027, -12.633990287780762, 11.44431209564209, 30.212331771850586, 20.400667190551758, -8.235776901245117, -9.518695831298828, 11.079070091247559, 0.5699803829193115, -1.4395509958267212, 10.979540824890137, 4.438968181610107, -23.884538650512695, -14.669744491577148, 3.307931423187256, -3.4820616245269775, 15.97616958618164, -19.161283493041992, -24.336952209472656, -10.648521423339844, -0.1505928784608841, -30.259159088134766, 17.31747817993164, 22.35712242126465, -3.224766254425049, 11.896723747253418, -18.383010864257812, -1.5875054597854614, -6.541483402252197, -10.000041961669922, -9.405776977539062, 0.2714546322822571, -12.749767303466797, -23.45707893371582, 28.860326766967773, -33.42794418334961, -11.323235511779785, 3.2249975204467773, 16.95104217529297, -1.5931267738342285, -10.661996841430664, -26.26612663269043, -3.789036512374878, 4.352568626403809, 4.243080139160156, -26.855907440185547, -7.642945766448975, 8.431695938110352, 4.4050822257995605, -22.49024772644043, 16.419227600097656, -0.7704687714576721, 6.3260626792907715, 3.55587100982666, -15.773666381835938, -20.27842140197754, -9.594715118408203, 7.667507171630859, -26.353208541870117, 20.935850143432617, 12.034343719482422, -13.821205139160156, 8.589638710021973, -28.287860870361328, 14.892729759216309, 0.5963824391365051, 4.033687591552734, 14.065570831298828, 8.319514274597168, 8.974650382995605, -1.6290764808654785, 3.3927228450775146, -1.464330792427063, 16.9161376953125, 29.241586685180664, -25.070301055908203, 1.2505580186843872, -6.864544868469238, -24.009788513183594, -22.246625900268555, -18.967302322387695, -8.224126815795898, 27.790258407592773, 7.01551628112793, -6.548854827880859, 0.21524553000926971, 5.1600494384765625, 14.620144844055176, 10.509371757507324, 1.2716648578643799, 5.52407169342041, 16.4731502532959, 6.356191635131836, -0.9218176007270813, 24.476411819458008, 13.295032501220703, -13.64856243133545, -6.203803539276123, 29.607189178466797, 0.3493160903453827, 3.980403423309326, -16.63751792907715, 7.214237213134766, -21.89406394958496, 3.714630365371704, -15.231515884399414, 16.851686477661133, 21.914749145507812, 10.053412437438965, -0.8643739819526672, -31.888696670532227, 10.528936386108398, 1.276993989944458, -24.290359497070312, 20.650096893310547, -31.72853660583496, 32.3402099609375, -0.43969398736953735, 26.761072158813477, -5.895895957946777, -3.517407178878784, -2.2395501136779785, 13.762717247009277, -1.3748502731323242, 10.48141098022461, -23.015445709228516, 25.103649139404297, 2.6504249572753906, 8.723387718200684, 6.0693535804748535, 2.497955560684204, 31.25950813293457, -3.8571879863739014, 3.985264539718628, 23.612167358398438, 22.5218563079834, -27.001419067382812, 4.272227764129639, 4.7398200035095215, 2.561448335647583, -15.08591079711914, -16.223371505737305, -2.2988803386688232, 22.807987213134766, -36.60599899291992, -0.5159581303596497, 14.366612434387207, -1.6095924377441406, -7.487010955810547, 16.011030197143555, 16.494464874267578, 13.02055549621582, 4.653233051300049, 23.743358612060547, -8.09730339050293, 2.827618360519409, 2.4841511249542236, 12.041082382202148, 2.065793752670288, -21.095672607421875, 37.08467483520508, -10.745893478393555, 32.348812103271484, -18.41803741455078, -7.956963539123535, 11.984673500061035, -25.17234230041504, 2.482957363128662, 1.8810486793518066, 12.870357513427734, -33.00121307373047, -33.13217544555664, -0.027072366327047348, 12.348938941955566, 16.224082946777344, -9.097614288330078, -13.540483474731445, 7.926937580108643, 8.890389442443848, 7.1946024894714355, 8.186774253845215, 7.581447601318359, 22.727890014648438, -16.810205459594727, 3.907193183898926, -27.7526798248291, 14.601577758789062, -11.801671028137207, 18.85674285888672, -6.744062900543213, 22.0692138671875, -7.129159450531006, 4.478816986083984, 24.78221893310547, -12.305582046508789, -2.6440563201904297, 1.6819621324539185, 1.8323184251785278, 5.553750514984131, -10.091466903686523, -19.451168060302734, 1.7333866357803345, 16.098230361938477, 5.372792720794678, -6.052812576293945, -25.030887603759766, -12.443835258483887, -32.041900634765625, -3.1289877891540527, -17.02414894104004, 12.111099243164062, 4.167261600494385, 30.237407684326172, 16.161640167236328, -7.558718681335449, -9.949212074279785, -22.66050148010254, -29.745769500732422, 2.196751594543457, 2.3883631229400635, -4.7036519050598145, 23.876115798950195, -12.224555015563965, 13.253443717956543, -15.279720306396484, -13.4397611618042, -8.326525688171387, -9.237074851989746, 16.205677032470703, -5.827701568603516, -19.372804641723633, -12.89562702178955, -24.35030746459961, -6.694338798522949, 9.354887008666992, -8.92689037322998, 3.9457526206970215, 15.724498748779297, 13.412919044494629, -0.48444876074790955, 11.614215850830078, 0.5447909832000732, -21.41895294189453, -8.451805114746094, -28.869251251220703, 17.128339767456055, -30.340465545654297, -2.771557092666626, 17.59099769592285, 15.271197319030762, 4.799907207489014, 17.477703094482422, -7.1092071533203125, -2.1131591796875, -12.889527320861816, -0.48905980587005615, -3.882131576538086, -32.48764419555664, 14.180688858032227, 4.941512584686279, 20.426984786987305, 7.800191402435303, 18.863969802856445, -10.60104751586914, 26.029619216918945, -17.641998291015625, -13.027765274047852, 1.8452212810516357, -21.587276458740234, 3.7471468448638916, -11.438177108764648, 2.329524278640747, -2.250826358795166, -2.637601613998413, -12.449893951416016, 28.16412353515625, 12.355446815490723, -12.262456893920898, -13.638429641723633, 18.783964157104492, -2.512890577316284, 9.061190605163574, 20.14666748046875, 0.89518803358078, -19.872480392456055, 22.952070236206055, -17.977012634277344, 11.6349458694458, -15.107248306274414, -27.94637680053711, -33.022430419921875, 17.834901809692383, 0.19931185245513916, 29.159332275390625, 16.626922607421875, 22.05613136291504, -11.49170207977295, 33.45155334472656, 13.881650924682617, 17.99677848815918, -6.689592361450195, -12.373372077941895, -4.756433010101318, -3.1369948387145996, 14.2367525100708, -1.3567613363265991, -42.27357864379883, 6.58481502532959, -27.48436737060547, 16.341489791870117, 28.372909545898438, 9.544770240783691, -10.648683547973633, 27.24888038635254, -25.902536392211914, 15.772500991821289, -15.426210403442383, 17.310543060302734, -1.068688988685608, -33.15973663330078, 19.914329528808594, -2.3951187133789062, -5.0773491859436035, -27.75288200378418, -24.116552352905273, 20.14738655090332, -15.558611869812012, -11.231904983520508, 12.866474151611328, 3.683110237121582, 11.178507804870605, -11.551400184631348, -17.375951766967773, -6.326456069946289, 11.166275024414062, 35.9359130859375, -8.560298919677734, 8.116150856018066, 11.537284851074219, 2.3361120223999023, -19.023134231567383, 7.923412322998047, 4.624340534210205, 3.162456750869751, -3.3239338397979736, -20.197097778320312, 8.969441413879395, -9.51064395904541, -26.06627655029297, 3.0320353507995605, 30.730709075927734, -5.431100845336914, -5.5545759201049805, -18.530115127563477, -11.193314552307129, -2.4593467712402344, -26.290420532226562, -19.125473022460938, 19.05619239807129, 2.502624988555908, 11.35079288482666, 8.309703826904297, -4.406191825866699, -28.7856502532959, 31.062990188598633, -15.556042671203613, -17.06732749938965, -33.407806396484375, -0.25048983097076416, 17.344261169433594, 4.708064079284668, 8.282842636108398, -27.476612091064453, 0.7617760300636292, 8.585992813110352, -24.554460525512695, 0.7768347859382629, 13.873897552490234, 3.7690839767456055, 18.620929718017578, -6.715414524078369, 10.188590049743652, -16.024826049804688, -0.8699284791946411, -3.427917957305908, 14.51608943939209, 5.867438316345215, -7.391443252563477, 4.321343421936035, -6.789651393890381, 8.981911659240723, 15.107589721679688, 17.166725158691406, 17.61981964111328, -21.291122436523438, 19.22554588317871, 14.449054718017578, -18.466384887695312, 6.58753776550293, -32.5432243347168, -0.35580769181251526, -11.11186695098877, 13.043790817260742, -3.9581027030944824, -14.619993209838867, -9.63217544555664, -9.660506248474121, 24.528411865234375, 11.754849433898926, 0.4187200665473938, -7.831422328948975, -8.688665390014648, -18.256452560424805, 9.0668306350708, 2.8510115146636963, -6.61920166015625, 10.690383911132812, 3.171001434326172, 22.1815128326416, 4.291200637817383, 21.84273338317871], \"xaxis\": \"x\", \"y\": [-25.496042251586914, -11.713713645935059, -34.78989028930664, -6.499014377593994, -23.79823112487793, -6.707745552062988, -25.743833541870117, -7.7960524559021, -11.534159660339355, -25.418453216552734, 6.577248573303223, 7.720674514770508, -40.92845916748047, -32.821685791015625, 12.698451042175293, -18.33327293395996, -16.332660675048828, -24.16574478149414, 23.1114444732666, 4.79435920715332, -14.209328651428223, 11.507672309875488, 4.605066776275635, 13.179503440856934, -26.215045928955078, 8.018937110900879, 2.0368688106536865, 7.755620002746582, -19.440771102905273, -39.27003860473633, -8.585190773010254, -25.53218650817871, 0.6161046624183655, -15.413506507873535, 13.582307815551758, 7.58408784866333, 7.586916446685791, 12.220608711242676, 5.353960037231445, -23.213205337524414, -4.988414764404297, -6.948826789855957, -34.943084716796875, 21.807876586914062, 24.237438201904297, 31.487150192260742, -2.0111875534057617, 13.89445686340332, 12.690967559814453, 3.4023947715759277, -16.806795120239258, 4.5781779289245605, 5.564967632293701, 24.507278442382812, -23.711278915405273, 13.596670150756836, 22.867948532104492, 11.578105926513672, 12.771020889282227, -12.679530143737793, -7.940508842468262, 11.326900482177734, -15.458885192871094, 36.08611297607422, 5.9237236976623535, -39.5783576965332, 12.863696098327637, -31.721494674682617, -39.70144271850586, 1.1507662534713745, 7.267523288726807, 23.158573150634766, 4.2297892570495605, -19.249759674072266, -29.605684280395508, -20.775779724121094, 27.700044631958008, -22.313995361328125, -32.59030532836914, -19.030017852783203, 4.823906898498535, -41.40889358520508, 11.634500503540039, 1.173331379890442, 14.478644371032715, 14.05441951751709, -4.096075534820557, -32.23175048828125, 11.051176071166992, -0.5879015326499939, 6.1212944984436035, 6.7989959716796875, -46.05030059814453, -10.692941665649414, -16.009750366210938, 35.781490325927734, 5.067509174346924, 0.9948033094406128, -0.7413701415061951, 34.771881103515625, -26.736005783081055, 24.209888458251953, -30.77497673034668, 14.211633682250977, 22.077980041503906, -9.170023918151855, -4.95619010925293, 8.790608406066895, 0.7236276865005493, 8.898696899414062, -0.4779508113861084, -1.7275534868240356, -18.377622604370117, -17.123937606811523, -27.779529571533203, 10.4083251953125, 11.764976501464844, 3.754136323928833, 6.228332042694092, -23.28205108642578, 0.2580970525741577, -26.7686710357666, 12.732213020324707, -32.02450180053711, 3.0453500747680664, -4.501572608947754, -39.63365936279297, -32.66410446166992, 12.097065925598145, 13.63834285736084, 2.4176833629608154, -16.23455238342285, -5.011087894439697, 6.245217323303223, -44.14212417602539, 2.6245474815368652, -18.524534225463867, 5.868664264678955, -1.4887348413467407, 12.360170364379883, 24.872711181640625, 0.4457569718360901, -3.207528829574585, 11.935949325561523, 4.111682415008545, 4.71513557434082, -10.883565902709961, 13.284297943115234, 10.95853042602539, 3.611339807510376, -1.352906584739685, -17.574386596679688, 17.940200805664062, -0.15045006573200226, -15.524751663208008, 1.4757293462753296, -31.352252960205078, 15.405458450317383, -29.210609436035156, -46.298980712890625, 1.7791543006896973, -13.532233238220215, 7.9075727462768555, 10.893133163452148, 0.7650846242904663, 15.42780876159668, 8.686442375183105, -0.33380457758903503, 17.43779754638672, 17.7064208984375, 6.370779991149902, 33.03835678100586, 22.19518280029297, 5.015076160430908, 21.18505859375, -13.374155044555664, -1.1952141523361206, -21.776453018188477, 7.547403335571289, -14.245927810668945, 31.59524917602539, -0.24061062932014465, 14.658743858337402, 15.642576217651367, -14.183745384216309, 34.11262512207031, 21.848665237426758, 15.513277053833008, 5.306120872497559, -20.754295349121094, 23.218427658081055, 5.801980495452881, 24.31121063232422, -2.8152647018432617, -41.74326705932617, 14.852962493896484, -37.415523529052734, -41.57835388183594, -10.759058952331543, -5.234617710113525, -28.38097381591797, 18.029924392700195, 27.65765380859375, 3.892177104949951, 37.94781494140625, -22.33669662475586, -5.856963157653809, 2.9538848400115967, 6.925277233123779, -30.40261459350586, -15.250319480895996, 1.3589446544647217, 11.404438972473145, 18.171770095825195, -7.489678859710693, 11.268547058105469, -41.14033126831055, 2.501234531402588, 5.476301670074463, 7.956272602081299, -4.494265079498291, -35.503177642822266, -1.0998958349227905, -29.657041549682617, -33.960693359375, -24.5517520904541, 18.370424270629883, 9.57720947265625, -41.246639251708984, -26.509902954101562, 14.247368812561035, 39.416534423828125, 41.44706344604492, 1.4497363567352295, 21.06488037109375, 16.023517608642578, 7.851052284240723, -1.9273391962051392, -35.61564636230469, 2.288033962249756, 22.309614181518555, -31.258970260620117, 16.01301383972168, 38.187557220458984, 8.178297996520996, 16.230667114257812, 7.257274627685547, 25.79874038696289, 16.309785842895508, -3.818366527557373, 5.486204147338867, 29.301048278808594, -15.132124900817871, 29.029834747314453, -2.4167706966400146, 11.332135200500488, 33.570777893066406, 36.38021469116211, -1.143178939819336, 9.946606636047363, 13.020718574523926, 25.502958297729492, -15.249759674072266, 1.2125790119171143, -4.690334320068359, -8.357775688171387, 19.99028778076172, 8.31662654876709, 10.996171951293945, -32.872859954833984, -28.960338592529297, 3.653887987136841, 20.73564338684082, -20.489662170410156, 8.980456352233887, -36.310489654541016, -1.534082055091858, -1.099631905555725, -6.028797149658203, -3.4468653202056885, 26.26346206665039, 17.100492477416992, 19.588624954223633, 3.8473293781280518, 26.46965789794922, -25.422639846801758, -43.79911422729492, -17.207569122314453, -11.717169761657715, 14.032994270324707, -0.8500245809555054, -7.285581588745117, -34.892059326171875, -16.667030334472656, -18.04964256286621, 39.32194900512695, 15.312202453613281, 18.868200302124023, 5.327489376068115, 10.65024471282959, -0.43857258558273315, 11.028702735900879, 16.24013900756836, -16.033601760864258, 6.921926975250244, -13.549288749694824, -5.8518757820129395, 8.969167709350586, 10.40231990814209, -1.2029179334640503, -25.683931350708008, 2.472468614578247, 3.3658673763275146, -43.365509033203125, 1.823562741279602, -41.267093658447266, 35.39079284667969, -30.635923385620117, -25.00775718688965, 26.285808563232422, 16.979230880737305, -9.564927101135254, 13.157495498657227, 5.331414222717285, 15.354472160339355, -3.419140100479126, 5.640682697296143, -0.7192296385765076, -30.980653762817383, -3.2570199966430664, 10.291866302490234, 17.125207901000977, 17.205814361572266, 2.568256378173828, -43.95046615600586, 16.84477424621582, -8.835458755493164, -18.876728057861328, -27.254528045654297, -11.254133224487305, -36.57030487060547, 16.22771644592285, -30.24510383605957, 9.751056671142578, 8.492633819580078, 34.4050178527832, 17.812257766723633, 1.8356434106826782, -27.44420051574707, 15.988842964172363, -7.714963912963867, 27.174970626831055, -29.749086380004883, -8.428345680236816, -2.34832501411438, 6.281480312347412, -37.8288459777832, 9.956469535827637, 7.15333890914917, 21.733245849609375, 21.24755859375, -6.121624946594238, 34.61321258544922, -34.05522155761719, 35.1446418762207, 12.715620994567871, 19.170856475830078, -29.75983428955078, 15.159181594848633, 8.16456413269043, 25.189016342163086, -19.798398971557617, 12.355770111083984, 17.461528778076172, 15.162453651428223, -13.028802871704102, 7.285112380981445, 29.084095001220703, 23.268644332885742, 8.781911849975586, 9.442227363586426, 1.483505129814148, -3.391688346862793, 22.791749954223633, 1.8850624561309814, 21.17424201965332, 4.577664852142334, -10.989458084106445, 23.169771194458008, -11.33556842803955, 13.229785919189453, 23.340402603149414, -1.1585450172424316, 32.529300689697266, 17.7995662689209, -16.009716033935547, 11.04486083984375, -40.067108154296875, 5.335384368896484, 12.931795120239258, -26.620088577270508, -12.58109188079834, -10.834561347961426, -0.15545174479484558, -31.07756233215332, -36.635196685791016, 15.596080780029297, 1.761696457862854, 14.872637748718262, -16.61545753479004, -18.89169692993164, -17.5866756439209, -38.275840759277344, 21.464946746826172, -38.149776458740234, 41.80680465698242, -8.375505447387695, 20.567258834838867, -27.7969913482666, -27.796117782592773, 12.94752025604248, -1.3615413904190063, -20.152660369873047, -44.16924285888672, 26.17659568786621, 35.85886764526367, 10.61916446685791, 8.121095657348633, 24.63315200805664, -14.225071907043457, 23.64461898803711, 9.463804244995117, -21.83430290222168, 33.24830627441406, 18.7385311126709, 32.79340744018555, -1.2853000164031982, 9.542505264282227, 25.03412628173828, -35.08747100830078, 3.9339897632598877, -13.944826126098633, -23.072195053100586, 7.049083709716797, -37.698631286621094, 24.289777755737305, 8.19920825958252, -19.832002639770508, -36.14306640625, 35.35943603515625, -16.77283477783203, -30.06534194946289, 1.9642796516418457, -38.20045852661133, -0.6169167160987854, -11.131739616394043, 8.70070743560791, 24.075214385986328, -5.20285177230835, 7.977321147918701, 19.50258445739746, -26.08673858642578, 28.835702896118164, 4.440814971923828, -16.701486587524414, 21.988407135009766, -32.46025085449219, 18.385662078857422, -23.637054443359375, -4.686020851135254, -0.13069075345993042, 27.7887020111084, -2.819075584411621, -14.615828514099121, 10.51613712310791, -26.78409767150879, -10.128006935119629, 16.213632583618164, -14.578959465026855, -43.26614761352539, -1.4017170667648315, -35.860801696777344, 16.625747680664062, -0.15973955392837524, -9.786521911621094, 2.953076124191284, -1.2405959367752075, -8.412741661071777, -40.8820915222168, 34.66969680786133, 20.42335319519043, 26.075895309448242, 9.182221412658691, 5.615679740905762, -44.15984344482422, -0.35613083839416504, 13.63691234588623, -24.672561645507812, 17.174800872802734, 0.02523699402809143, -15.723623275756836, 27.271228790283203, -36.51457595825195, 5.999981880187988, -27.491117477416992, -22.067306518554688, 3.4066836833953857, 36.97849655151367, -25.575773239135742, 22.553377151489258, -0.3377673327922821, 22.247577667236328, -23.778724670410156, 19.79689598083496, -26.219806671142578, -35.03343963623047, -27.687259674072266, -1.5620167255401611, -35.52393341064453, -25.649377822875977, 1.6427556276321411, 0.28637048602104187, 35.071937561035156, 25.121374130249023, 14.415451049804688, -26.284652709960938, -30.6441593170166, -26.306791305541992, 0.38763511180877686, 7.39750862121582, -0.6092103719711304, -19.875431060791016, -11.34219741821289, -39.83409881591797, -23.686426162719727, 3.0073513984680176, -38.284820556640625, -32.85563659667969, -25.60146141052246, -1.1087541580200195, -16.520864486694336, 11.822087287902832, -19.06339454650879, 29.289066314697266, -18.732501983642578, 19.398284912109375, 24.708843231201172, -2.6194984912872314, -39.23311233520508, 10.839431762695312, -3.7364935874938965, 3.0521621704101562, 17.250301361083984, -27.76484489440918, -19.013240814208984, 31.437095642089844, 24.513134002685547, 1.9556925296783447, -10.170890808105469, 27.864755630493164, -7.466310024261475, -14.146141052246094, 33.17145538330078, 1.2548683881759644, -44.858489990234375, -2.732936143875122, 2.8236029148101807, -41.08086395263672, -32.90119934082031, 4.950283050537109, -31.757266998291016, -41.88529968261719, -19.963483810424805, 4.322007656097412, -31.099327087402344, -12.416107177734375, 34.694828033447266, -4.457982063293457, 16.051013946533203, 6.211715221405029, -30.93764877319336, 16.474281311035156, 7.186262607574463, -27.767578125, 28.000320434570312, -26.898839950561523, -1.9321032762527466, -31.978137969970703, 32.055137634277344, 5.3843817710876465, 1.7685327529907227, 9.953163146972656, -23.212066650390625, 4.5606536865234375, 27.20265769958496, -43.41669464111328, 24.80175018310547, 0.34595468640327454, 35.6378173828125, 3.7820825576782227, 11.570128440856934, -35.588409423828125, -7.3966779708862305, 14.26114559173584, -44.16614532470703, 33.191959381103516, 38.08320236206055, 30.86227035522461, -32.33574295043945, 11.575298309326172, -40.1307373046875, 13.522847175598145, 11.8446044921875, -29.779481887817383, -12.792654037475586, -14.944437026977539, -37.55282211303711, -0.5498620271682739, 6.2485809326171875, 3.151489496231079, 5.696473121643066, -3.748688220977783, -12.974848747253418, 33.64084243774414, 3.6469995975494385, 17.22201919555664, 33.41687774658203, -14.885811805725098, 0.9731242656707764, 6.71950626373291, -39.47007369995117, -12.42946720123291, -18.78750991821289, 26.017000198364258, -1.0700000524520874, 19.647253036499023, -21.403072357177734, 12.221075057983398, -7.151998519897461, -13.298855781555176, -24.319631576538086, -31.659061431884766, 4.705391883850098, 9.710216522216797, 16.713485717773438, 39.49795913696289, -37.22669219970703, 3.5023436546325684, 21.231094360351562, 31.87682342529297, 24.761003494262695, -41.736751556396484, -8.205099105834961, 2.1554622650146484, 2.039201498031616, -1.9883977174758911, 11.79219913482666, -10.697366714477539, 7.895999908447266, 8.272517204284668, 6.7417893409729, 9.408461570739746, 7.299702167510986, 19.21668815612793, 2.9503912925720215, 22.29181671142578, -40.74238586425781, 12.132793426513672, -18.55974578857422, -31.548885345458984, -2.5311760902404785, 19.67229652404785, -6.251176834106445, 10.386248588562012, -14.771964073181152, 18.388513565063477, 3.715230941772461, -0.8128271102905273, 38.082332611083984, -28.97838020324707, 21.619752883911133, 27.29496955871582, 14.020689010620117, -26.585613250732422, 39.859169006347656, 18.660812377929688, -30.246660232543945, 1.482283353805542, -14.626928329467773, -6.269524097442627, 7.31102180480957, -24.9906005859375, -13.741195678710938, -32.83074951171875, 8.700901985168457, 8.14440631866455, 0.10145153105258942, 16.503873825073242, 0.9927147030830383, -8.917062759399414, 35.46342468261719, -38.87338638305664, -22.8142032623291, -36.88178253173828, -11.641509056091309, -30.707265853881836, -36.09187698364258, 19.14116096496582, 11.327787399291992, -10.597254753112793, 0.050439897924661636, 11.320391654968262, -33.36298751831055, -4.944652080535889, -25.337724685668945, -4.536290645599365, -24.115463256835938, 36.18623733520508, -9.76079273223877, -27.52947425842285, 22.25133514404297, 12.558349609375, 9.214029312133789, 10.461187362670898, -42.740379333496094, -34.42775344848633, 40.00739669799805, -36.821372985839844, -7.629072666168213, 28.326547622680664, -42.40590286254883, -12.106649398803711, -29.087705612182617, 38.55791091918945, 25.0367431640625, -28.237356185913086, -45.5425910949707, 4.493612289428711, -27.333662033081055, 5.923729419708252, 18.211410522460938, 9.696598052978516, 12.581768035888672, -29.292516708374023, 2.148740291595459, 0.22935380041599274, -7.81805419921875, -23.63007926940918, -0.7029979825019836, 3.9892654418945312, 2.667707920074463, 27.76415252685547, -37.68693542480469, 28.098718643188477, 21.769134521484375, -9.536848068237305, 14.357160568237305, -5.756647109985352, -28.451204299926758, 33.34159469604492, 26.76346778869629, -25.839916229248047, 0.4151122570037842, -15.546433448791504, -3.8383538722991943, 3.0238840579986572, 34.98683547973633, 9.960005760192871, 17.241069793701172, -33.47435760498047, -25.969928741455078, 26.96471405029297, -34.35358428955078, 27.684486389160156, -2.2132725715637207, -25.822368621826172, 26.81131362915039, -11.012040138244629, 16.14033317565918, 23.89807891845703, -42.60807418823242, 9.227766036987305, -24.447269439697266, -1.6706349849700928, 4.393855094909668, 24.768224716186523, 3.050184726715088, -14.55674934387207, 25.936925888061523, -34.50782012939453, 24.065109252929688, 4.135509014129639, 22.355863571166992, 27.909988403320312, -28.511219024658203, 12.884773254394531, 4.30697774887085, 9.532459259033203, -31.297561645507812, 26.611225128173828, 15.322576522827148, -38.33432388305664, 10.233988761901855, -6.266896724700928, 12.197439193725586, -5.0252885818481445, 28.151742935180664, -27.84498405456543, 32.37617111206055, -17.68711280822754, 8.044562339782715, 11.077604293823242, 9.05531120300293, 10.562073707580566, -11.986570358276367, -32.65909194946289, -41.06595230102539, 4.140632629394531, -38.912757873535156, -8.432659149169922, 32.34098815917969, 28.60148048400879, 30.94420623779297, 4.358394145965576, 15.236893653869629, 5.856443405151367, 8.909327507019043, -36.006980895996094, 6.485848426818848, -12.820446014404297, -43.022037506103516, -29.573808670043945, -44.25397872924805, -16.259801864624023, -24.253009796142578, 22.288930892944336, -3.5694310665130615, 10.917224884033203, -19.911746978759766, 14.105320930480957, 6.094155788421631, 12.89884090423584, -8.144452095031738, 10.805048942565918, 20.35332679748535, 16.20482063293457, -27.620458602905273, 8.825883865356445, -33.482337951660156, 19.82269859313965, 28.388507843017578, 19.72309684753418, 31.964458465576172, -0.7776923775672913, 3.3053293228149414, 2.9451987743377686, -32.848758697509766, -11.559823989868164, -10.890345573425293, 20.13688850402832, 29.202220916748047, -8.926412582397461, 29.9279842376709, 20.815322875976562, -31.824350357055664, -26.789899826049805, 19.213903427124023, -5.524415969848633, 4.191851615905762, -5.027358055114746, -15.191162109375, 15.006021499633789, 8.498005867004395, -10.319988250732422, -33.09123992919922, -1.2148544788360596, 4.904556751251221, -32.38920593261719, -12.763906478881836, 20.977859497070312, -27.615968704223633, 26.414716720581055, 33.75830841064453, -41.912784576416016, 29.076248168945312, 3.7112877368927, 3.2600395679473877, -21.14296531677246, -10.586426734924316, 6.72237491607666, 3.2768120765686035, 30.627626419067383, 8.684269905090332, -12.677595138549805, -4.18643045425415, 2.8265063762664795, 27.596126556396484, -28.200899124145508, -4.856060028076172, 17.28645896911621, -28.78093147277832, 18.220598220825195, 17.172618865966797, 18.702367782592773, -11.958086967468262, 15.10753345489502, -15.961712837219238, -36.91106414794922, 6.248487949371338, 16.621232986450195, -29.206167221069336, 17.401226043701172, 19.13945960998535, -39.64396286010742, 5.897634506225586, 25.731971740722656, 20.256221771240234, -18.396520614624023, 18.117101669311523, 7.024155139923096, -0.7103390097618103, 4.530916213989258, 0.27090415358543396, -20.31834602355957, 9.163385391235352, -38.159339904785156, -31.271709442138672, 15.352387428283691, 18.759069442749023, 0.2972598075866699, 19.338285446166992, 10.553393363952637, 32.41748046875, -15.933635711669922, -27.808422088623047, -20.607688903808594, -20.505765914916992, 12.17553424835205, -9.27559757232666, -36.83823013305664, 13.165491104125977, -18.1492977142334, -20.99007225036621, 16.039932250976562, 2.111682891845703, -23.075563430786133, 1.9597135782241821, -12.602727890014648, 9.180688858032227, 18.200029373168945, 2.4760847091674805, -20.839435577392578, 7.225542068481445, 5.6959052085876465, 1.0796476602554321, -39.474308013916016, -44.853145599365234, 19.647113800048828, 16.390737533569336, -14.029026985168457, 21.8546085357666, -21.57728385925293, -27.480785369873047, -18.44951057434082, -45.4888801574707, 2.9124598503112793, -36.9745979309082, -23.203332901000977, 11.677547454833984, -40.15732192993164, -12.134909629821777, -17.422130584716797, 9.165230751037598, -9.165215492248535, -41.85286331176758, -35.9195442199707, 6.144474029541016, 5.0483717918396, 2.5382847785949707, 24.782634735107422, 25.259929656982422, 2.2922725677490234, -9.95582389831543, 31.986295700073242, -16.704408645629883, -19.91107177734375, 13.021971702575684, 0.429869145154953, -8.874938011169434, 38.58815383911133, -19.06764030456543, -1.1014349460601807, -12.89188003540039, 32.05228042602539, -27.1729793548584, -38.5263557434082, -12.788323402404785, 12.063478469848633, 26.674440383911133, -27.70974349975586], \"yaxis\": \"y\"}],\n",
              "                        {\"legend\": {\"tracegroupgap\": 0}, \"margin\": {\"t\": 60}, \"template\": {\"data\": {\"bar\": [{\"error_x\": {\"color\": \"#2a3f5f\"}, \"error_y\": {\"color\": \"#2a3f5f\"}, \"marker\": {\"line\": {\"color\": \"#E5ECF6\", \"width\": 0.5}}, \"type\": \"bar\"}], \"barpolar\": [{\"marker\": {\"line\": {\"color\": \"#E5ECF6\", \"width\": 0.5}}, \"type\": \"barpolar\"}], \"carpet\": [{\"aaxis\": {\"endlinecolor\": \"#2a3f5f\", \"gridcolor\": \"white\", \"linecolor\": \"white\", \"minorgridcolor\": \"white\", \"startlinecolor\": \"#2a3f5f\"}, \"baxis\": {\"endlinecolor\": \"#2a3f5f\", \"gridcolor\": \"white\", \"linecolor\": \"white\", \"minorgridcolor\": \"white\", \"startlinecolor\": \"#2a3f5f\"}, \"type\": \"carpet\"}], \"choropleth\": [{\"colorbar\": {\"outlinewidth\": 0, \"ticks\": \"\"}, \"type\": \"choropleth\"}], \"contour\": [{\"colorbar\": {\"outlinewidth\": 0, \"ticks\": \"\"}, \"colorscale\": [[0.0, \"#0d0887\"], [0.1111111111111111, \"#46039f\"], [0.2222222222222222, \"#7201a8\"], [0.3333333333333333, \"#9c179e\"], [0.4444444444444444, \"#bd3786\"], [0.5555555555555556, \"#d8576b\"], [0.6666666666666666, \"#ed7953\"], [0.7777777777777778, \"#fb9f3a\"], [0.8888888888888888, \"#fdca26\"], [1.0, \"#f0f921\"]], \"type\": \"contour\"}], \"contourcarpet\": [{\"colorbar\": {\"outlinewidth\": 0, \"ticks\": \"\"}, \"type\": \"contourcarpet\"}], \"heatmap\": [{\"colorbar\": {\"outlinewidth\": 0, \"ticks\": \"\"}, \"colorscale\": [[0.0, \"#0d0887\"], [0.1111111111111111, \"#46039f\"], [0.2222222222222222, \"#7201a8\"], [0.3333333333333333, \"#9c179e\"], [0.4444444444444444, \"#bd3786\"], [0.5555555555555556, \"#d8576b\"], [0.6666666666666666, \"#ed7953\"], [0.7777777777777778, \"#fb9f3a\"], [0.8888888888888888, \"#fdca26\"], [1.0, \"#f0f921\"]], \"type\": \"heatmap\"}], \"heatmapgl\": [{\"colorbar\": {\"outlinewidth\": 0, \"ticks\": \"\"}, \"colorscale\": [[0.0, \"#0d0887\"], [0.1111111111111111, \"#46039f\"], [0.2222222222222222, \"#7201a8\"], [0.3333333333333333, \"#9c179e\"], [0.4444444444444444, \"#bd3786\"], [0.5555555555555556, \"#d8576b\"], [0.6666666666666666, \"#ed7953\"], [0.7777777777777778, \"#fb9f3a\"], [0.8888888888888888, \"#fdca26\"], [1.0, \"#f0f921\"]], \"type\": \"heatmapgl\"}], \"histogram\": [{\"marker\": {\"colorbar\": {\"outlinewidth\": 0, \"ticks\": \"\"}}, \"type\": \"histogram\"}], \"histogram2d\": [{\"colorbar\": {\"outlinewidth\": 0, \"ticks\": \"\"}, \"colorscale\": [[0.0, \"#0d0887\"], [0.1111111111111111, \"#46039f\"], [0.2222222222222222, \"#7201a8\"], [0.3333333333333333, \"#9c179e\"], [0.4444444444444444, \"#bd3786\"], [0.5555555555555556, \"#d8576b\"], [0.6666666666666666, \"#ed7953\"], [0.7777777777777778, \"#fb9f3a\"], [0.8888888888888888, \"#fdca26\"], [1.0, \"#f0f921\"]], \"type\": \"histogram2d\"}], \"histogram2dcontour\": [{\"colorbar\": {\"outlinewidth\": 0, \"ticks\": \"\"}, \"colorscale\": [[0.0, \"#0d0887\"], [0.1111111111111111, \"#46039f\"], [0.2222222222222222, \"#7201a8\"], [0.3333333333333333, \"#9c179e\"], [0.4444444444444444, \"#bd3786\"], [0.5555555555555556, \"#d8576b\"], [0.6666666666666666, \"#ed7953\"], [0.7777777777777778, \"#fb9f3a\"], [0.8888888888888888, \"#fdca26\"], [1.0, \"#f0f921\"]], \"type\": \"histogram2dcontour\"}], \"mesh3d\": [{\"colorbar\": {\"outlinewidth\": 0, \"ticks\": \"\"}, \"type\": \"mesh3d\"}], \"parcoords\": [{\"line\": {\"colorbar\": {\"outlinewidth\": 0, \"ticks\": \"\"}}, \"type\": \"parcoords\"}], \"pie\": [{\"automargin\": true, \"type\": \"pie\"}], \"scatter\": [{\"marker\": {\"colorbar\": {\"outlinewidth\": 0, \"ticks\": \"\"}}, \"type\": \"scatter\"}], \"scatter3d\": [{\"line\": {\"colorbar\": {\"outlinewidth\": 0, \"ticks\": \"\"}}, \"marker\": {\"colorbar\": {\"outlinewidth\": 0, \"ticks\": \"\"}}, \"type\": \"scatter3d\"}], \"scattercarpet\": [{\"marker\": {\"colorbar\": {\"outlinewidth\": 0, \"ticks\": \"\"}}, \"type\": \"scattercarpet\"}], \"scattergeo\": [{\"marker\": {\"colorbar\": {\"outlinewidth\": 0, \"ticks\": \"\"}}, \"type\": \"scattergeo\"}], \"scattergl\": [{\"marker\": {\"colorbar\": {\"outlinewidth\": 0, \"ticks\": \"\"}}, \"type\": \"scattergl\"}], \"scattermapbox\": [{\"marker\": {\"colorbar\": {\"outlinewidth\": 0, \"ticks\": \"\"}}, \"type\": \"scattermapbox\"}], \"scatterpolar\": [{\"marker\": {\"colorbar\": {\"outlinewidth\": 0, \"ticks\": \"\"}}, \"type\": \"scatterpolar\"}], \"scatterpolargl\": [{\"marker\": {\"colorbar\": {\"outlinewidth\": 0, \"ticks\": \"\"}}, \"type\": \"scatterpolargl\"}], \"scatterternary\": [{\"marker\": {\"colorbar\": {\"outlinewidth\": 0, \"ticks\": \"\"}}, \"type\": \"scatterternary\"}], \"surface\": [{\"colorbar\": {\"outlinewidth\": 0, \"ticks\": \"\"}, \"colorscale\": [[0.0, \"#0d0887\"], [0.1111111111111111, \"#46039f\"], [0.2222222222222222, \"#7201a8\"], [0.3333333333333333, \"#9c179e\"], [0.4444444444444444, \"#bd3786\"], [0.5555555555555556, \"#d8576b\"], [0.6666666666666666, \"#ed7953\"], [0.7777777777777778, \"#fb9f3a\"], [0.8888888888888888, \"#fdca26\"], [1.0, \"#f0f921\"]], \"type\": \"surface\"}], \"table\": [{\"cells\": {\"fill\": {\"color\": \"#EBF0F8\"}, \"line\": {\"color\": \"white\"}}, \"header\": {\"fill\": {\"color\": \"#C8D4E3\"}, \"line\": {\"color\": \"white\"}}, \"type\": \"table\"}]}, \"layout\": {\"annotationdefaults\": {\"arrowcolor\": \"#2a3f5f\", \"arrowhead\": 0, \"arrowwidth\": 1}, \"coloraxis\": {\"colorbar\": {\"outlinewidth\": 0, \"ticks\": \"\"}}, \"colorscale\": {\"diverging\": [[0, \"#8e0152\"], [0.1, \"#c51b7d\"], [0.2, \"#de77ae\"], [0.3, \"#f1b6da\"], [0.4, \"#fde0ef\"], [0.5, \"#f7f7f7\"], [0.6, \"#e6f5d0\"], [0.7, \"#b8e186\"], [0.8, \"#7fbc41\"], [0.9, \"#4d9221\"], [1, \"#276419\"]], \"sequential\": [[0.0, \"#0d0887\"], [0.1111111111111111, \"#46039f\"], [0.2222222222222222, \"#7201a8\"], [0.3333333333333333, \"#9c179e\"], [0.4444444444444444, \"#bd3786\"], [0.5555555555555556, \"#d8576b\"], [0.6666666666666666, \"#ed7953\"], [0.7777777777777778, \"#fb9f3a\"], [0.8888888888888888, \"#fdca26\"], [1.0, \"#f0f921\"]], \"sequentialminus\": [[0.0, \"#0d0887\"], [0.1111111111111111, \"#46039f\"], [0.2222222222222222, \"#7201a8\"], [0.3333333333333333, \"#9c179e\"], [0.4444444444444444, \"#bd3786\"], [0.5555555555555556, \"#d8576b\"], [0.6666666666666666, \"#ed7953\"], [0.7777777777777778, \"#fb9f3a\"], [0.8888888888888888, \"#fdca26\"], [1.0, \"#f0f921\"]]}, \"colorway\": [\"#636efa\", \"#EF553B\", \"#00cc96\", \"#ab63fa\", \"#FFA15A\", \"#19d3f3\", \"#FF6692\", \"#B6E880\", \"#FF97FF\", \"#FECB52\"], \"font\": {\"color\": \"#2a3f5f\"}, \"geo\": {\"bgcolor\": \"white\", \"lakecolor\": \"white\", \"landcolor\": \"#E5ECF6\", \"showlakes\": true, \"showland\": true, \"subunitcolor\": \"white\"}, \"hoverlabel\": {\"align\": \"left\"}, \"hovermode\": \"closest\", \"mapbox\": {\"style\": \"light\"}, \"paper_bgcolor\": \"white\", \"plot_bgcolor\": \"#E5ECF6\", \"polar\": {\"angularaxis\": {\"gridcolor\": \"white\", \"linecolor\": \"white\", \"ticks\": \"\"}, \"bgcolor\": \"#E5ECF6\", \"radialaxis\": {\"gridcolor\": \"white\", \"linecolor\": \"white\", \"ticks\": \"\"}}, \"scene\": {\"xaxis\": {\"backgroundcolor\": \"#E5ECF6\", \"gridcolor\": \"white\", \"gridwidth\": 2, \"linecolor\": \"white\", \"showbackground\": true, \"ticks\": \"\", \"zerolinecolor\": \"white\"}, \"yaxis\": {\"backgroundcolor\": \"#E5ECF6\", \"gridcolor\": \"white\", \"gridwidth\": 2, \"linecolor\": \"white\", \"showbackground\": true, \"ticks\": \"\", \"zerolinecolor\": \"white\"}, \"zaxis\": {\"backgroundcolor\": \"#E5ECF6\", \"gridcolor\": \"white\", \"gridwidth\": 2, \"linecolor\": \"white\", \"showbackground\": true, \"ticks\": \"\", \"zerolinecolor\": \"white\"}}, \"shapedefaults\": {\"line\": {\"color\": \"#2a3f5f\"}}, \"ternary\": {\"aaxis\": {\"gridcolor\": \"white\", \"linecolor\": \"white\", \"ticks\": \"\"}, \"baxis\": {\"gridcolor\": \"white\", \"linecolor\": \"white\", \"ticks\": \"\"}, \"bgcolor\": \"#E5ECF6\", \"caxis\": {\"gridcolor\": \"white\", \"linecolor\": \"white\", \"ticks\": \"\"}}, \"title\": {\"x\": 0.05}, \"xaxis\": {\"automargin\": true, \"gridcolor\": \"white\", \"linecolor\": \"white\", \"ticks\": \"\", \"title\": {\"standoff\": 15}, \"zerolinecolor\": \"white\", \"zerolinewidth\": 2}, \"yaxis\": {\"automargin\": true, \"gridcolor\": \"white\", \"linecolor\": \"white\", \"ticks\": \"\", \"title\": {\"standoff\": 15}, \"zerolinecolor\": \"white\", \"zerolinewidth\": 2}}}, \"xaxis\": {\"anchor\": \"y\", \"domain\": [0.0, 1.0], \"title\": {\"text\": \"x\"}}, \"yaxis\": {\"anchor\": \"x\", \"domain\": [0.0, 1.0], \"title\": {\"text\": \"y\"}}},\n",
              "                        {\"responsive\": true}\n",
              "                    ).then(function(){\n",
              "                            \n",
              "var gd = document.getElementById('5d490c46-3d79-4330-9f4c-113504df5890');\n",
              "var x = new MutationObserver(function (mutations, observer) {{\n",
              "        var display = window.getComputedStyle(gd).display;\n",
              "        if (!display || display === 'none') {{\n",
              "            console.log([gd, 'removed!']);\n",
              "            Plotly.purge(gd);\n",
              "            observer.disconnect();\n",
              "        }}\n",
              "}});\n",
              "\n",
              "// Listen for the removal of the full notebook cells\n",
              "var notebookContainer = gd.closest('#notebook-container');\n",
              "if (notebookContainer) {{\n",
              "    x.observe(notebookContainer, {childList: true});\n",
              "}}\n",
              "\n",
              "// Listen for the clearing of the current output cell\n",
              "var outputEl = gd.closest('.output');\n",
              "if (outputEl) {{\n",
              "    x.observe(outputEl, {childList: true});\n",
              "}}\n",
              "\n",
              "                        })\n",
              "                };\n",
              "                \n",
              "            </script>\n",
              "        </div>\n",
              "</body>\n",
              "</html>"
            ]
          },
          "metadata": {
            "tags": []
          }
        }
      ]
    },
    {
      "cell_type": "markdown",
      "metadata": {
        "id": "5jotEfZl2gID"
      },
      "source": [
        "![insitubytes](https://drive.google.com/uc?id=1EAJK7AI9tcZRo3VvYq7vEKGxk7vmK2Ff)"
      ]
    }
  ]
}